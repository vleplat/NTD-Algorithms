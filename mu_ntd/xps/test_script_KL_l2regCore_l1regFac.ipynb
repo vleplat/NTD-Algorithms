{
 "cells": [
  {
   "cell_type": "code",
   "execution_count": 1,
   "id": "117404e5-4204-46ed-951e-aff27a916ac4",
   "metadata": {},
   "outputs": [],
   "source": [
    "# Python classics\n",
    "import numpy as np\n",
    "import tensorly as tl\n",
    "import mu_ntd.algorithms.Sparse_ntd as SNTD\n",
    "import matplotlib.pyplot as plt"
   ]
  },
  {
   "cell_type": "code",
   "execution_count": 2,
   "id": "1dde0e9b-fb0d-4319-a241-c8adeabd29cc",
   "metadata": {},
   "outputs": [],
   "source": [
    "#----------------------------------------------------------------------------------------------------------------------------------------------------------------------------------------------------------------\n",
    "# Data generation\n",
    "#----------------------------------------------------------------------------------------------------------------------------------------------------------------------------------------------------------------\n",
    "U_lines = 100\n",
    "V_lines = 101\n",
    "W_lines = 20\n",
    "ranks = [4,6,5]\n",
    "# Noise level\n",
    "sigma = 1e-2\n",
    "tol = 0 #running all iterations\n",
    "# Generation of the input data tensor T\n",
    "factors_0 = []\n",
    "#factors_0.append(np.random.rand(U_lines, ranks[0]))\n",
    "#factors_0.append(np.random.rand(V_lines, ranks[1]))\n",
    "#factors_0.append(np.random.rand(W_lines, ranks[2]))\n",
    "# sparse generation\n",
    "W = np.random.randn(U_lines, ranks[0])\n",
    "H = np.random.randn(V_lines, ranks[1])\n",
    "Q = np.random.randn(W_lines, ranks[2])\n",
    "W[W<0]=0\n",
    "H[H<0]=0\n",
    "Q[Q<0]=0\n",
    "factors_0.append(W)\n",
    "factors_0.append(H)\n",
    "factors_0.append(Q)\n",
    "core_0 = np.random.randn(ranks[0], ranks[1], ranks[2])\n",
    "core_0[core_0<0]=0 #sparsifying the gt solution\n",
    "factors_GT = factors_0\n",
    "core_GT = core_0\n",
    "T = tl.tenalg.multi_mode_dot(core_0, factors_0) + sigma * np.random.rand(U_lines, V_lines, W_lines) #1e-2"
   ]
  },
  {
   "cell_type": "code",
   "execution_count": 3,
   "id": "10d43e75-0b14-4d0f-964e-9eaedd2ac398",
   "metadata": {},
   "outputs": [],
   "source": [
    "# Random initialization for the NTD\n",
    "factors_init = []\n",
    "factors_init.append(np.random.rand(U_lines, ranks[0]))\n",
    "factors_init.append(np.random.rand(V_lines, ranks[1]))\n",
    "factors_init.append(np.random.rand(W_lines, ranks[2]))\n",
    "core_init = np.random.rand(ranks[0], ranks[1], ranks[2])"
   ]
  },
  {
   "cell_type": "code",
   "execution_count": 4,
   "id": "e6d5a1d3-dec9-4f4b-9922-66836a7e9de4",
   "metadata": {},
   "outputs": [],
   "source": [
    "# Solver parameters\n",
    "n_iter_max = 200\n",
    "beta = 1\n",
    "iter_inner = 5\n",
    "l2weight = np.array([0, 0, 0, 1])  #(\\mu_g, \\mu_W, \\mu_H, \\mu_Q)\n",
    "l1weight = np.array([1, 1, 1, 0])  #(\\mu_g, \\mu_W, \\mu_H, \\mu_Q)"
   ]
  },
  {
   "cell_type": "code",
   "execution_count": 5,
   "id": "9616d0a3-900e-400d-b9d8-d59e4f42a109",
   "metadata": {},
   "outputs": [
    {
     "name": "stderr",
     "output_type": "stream",
     "text": [
      "100%|██████████| 200/200 [00:06<00:00, 29.83it/s]\n"
     ]
    }
   ],
   "source": [
    "    #------------------------------\n",
    "    # Call of solvers\n",
    "    #----------------------------------------------------------------------------------------------------------------------------------------------------------------------------------------------------------------\n",
    "\n",
    "\n",
    "    # ### Beta = 1 - MU no extrapolation\n",
    "    core, factors, cost_fct_vals, toc, alpha = SNTD.sntd_mu(T, ranks, l2weights=l2weight, l1weights=l1weight, init = \"custom\", core_0 = core_init, factors_0 = factors_init, n_iter_max = n_iter_max, tol=tol, beta = beta,\n",
    "                                                fixed_modes = [], normalize = 4*[None], verbose = False, return_costs = True, extrapolate=False, iter_inner=iter_inner)"
   ]
  },
  {
   "cell_type": "code",
   "execution_count": 6,
   "id": "ffc97c93-87ab-486f-8229-b709dfc34185",
   "metadata": {},
   "outputs": [
    {
     "name": "stderr",
     "output_type": "stream",
     "text": [
      "100%|██████████| 200/200 [00:07<00:00, 28.37it/s]\n"
     ]
    }
   ],
   "source": [
    "    # ### Beta = 1 - MU extrapolation\n",
    "    core_HER, factors_HER, cost_fct_vals_HER, toc_HER, alpha_HER = SNTD.sntd_mu(T, ranks, l2weights=l2weight, l1weights=l1weight, init = \"custom\", core_0 = core_init, factors_0 = factors_init, n_iter_max = n_iter_max, tol=tol, beta = beta,\n",
    "                                                fixed_modes = [], normalize = 4*[None], verbose = False, return_costs = True, extrapolate=True, iter_inner=iter_inner)"
   ]
  },
  {
   "cell_type": "code",
   "execution_count": 7,
   "id": "f8076fb9-460c-4cd8-bce4-93c01ebfe89e",
   "metadata": {},
   "outputs": [
    {
     "name": "stdout",
     "output_type": "stream",
     "text": [
      "-----------------------------------------------------------------------\n",
      "Reporting results:\n",
      "-----------------------------------------------------------------------\n",
      "Final loss function value:\n",
      "MU, Beta = 1       : 1334.6590807158232, converged in 200 iterations.\n",
      "MU - HER, Beta = 1 : 1587.2519609508392, converged in 200 iterations.\n",
      "-----------------------------------------------------------------------\n",
      "Final relative construction error:\n",
      "MU, Beta = 1       : 2.9512905157254092 %\n",
      "MU - HER, Beta = 1 : 3.5003776350110303 %\n"
     ]
    }
   ],
   "source": [
    "    #----------------------------------------------------------------------------------------------------------------------------------------------------------------------------------------------------------------\n",
    "# Reporting\n",
    "#----------------------------------------------------------------------------------------------------------------------------------------------------------------------------------------------------------------\n",
    "print(\"-----------------------------------------------------------------------\")\n",
    "print(\"Reporting results:\")\n",
    "print(\"-----------------------------------------------------------------------\")\n",
    "print(\"Final loss function value:\")\n",
    "print(f\"MU, Beta = 1       : {cost_fct_vals[-1]}, converged in {len(cost_fct_vals) - 1} iterations.\")\n",
    "print(f\"MU - HER, Beta = 1 : {cost_fct_vals_HER[-1]}, converged in {len(cost_fct_vals_HER) - 1} iterations.\")\n",
    "print(\"-----------------------------------------------------------------------\")\n",
    "print(\"Final relative construction error:\")\n",
    "print(f\"MU, Beta = 1       : {tl.norm(T-tl.tenalg.multi_mode_dot(core, factors))/tl.norm(T)*100} %\")\n",
    "print(f\"MU - HER, Beta = 1 : {tl.norm(T-tl.tenalg.multi_mode_dot(core_HER, factors_HER))/tl.norm(T)*100} %\")"
   ]
  },
  {
   "cell_type": "code",
   "execution_count": 8,
   "id": "d578e5dc-de2a-4096-a1db-2f37ad8bfb54",
   "metadata": {},
   "outputs": [
    {
     "data": {
      "text/plain": [
       "9.96816050281507"
      ]
     },
     "execution_count": 8,
     "metadata": {},
     "output_type": "execute_result"
    }
   ],
   "source": [
    "tl.norm(core,order=2, axis=None)\n"
   ]
  },
  {
   "cell_type": "code",
   "execution_count": 9,
   "id": "727716f4-aaa2-47a6-b0f8-87f1b0035c98",
   "metadata": {},
   "outputs": [
    {
     "data": {
      "image/png": "[encoded data removed]",
      "text/plain": [
       "<Figure size 432x288 with 1 Axes>"
      ]
     },
     "metadata": {
      "needs_background": "light"
     },
     "output_type": "display_data"
    },
    {
     "data": {
      "image/png": "[encoded data removed]",
      "text/plain": [
       "<Figure size 432x288 with 1 Axes>"
      ]
     },
     "metadata": {
      "needs_background": "light"
     },
     "output_type": "display_data"
    }
   ],
   "source": [
    "# first iteration shown?\n",
    "it1 = 0\n",
    "\n",
    "plt.figure(1)\n",
    "plt.semilogy(cost_fct_vals[it1:], color='blue', label='MU HER off')\n",
    "plt.semilogy(cost_fct_vals_HER[it1:], color='black', label='MU HER on')\n",
    "plt.xlabel('Iteration number')\n",
    "plt.ylabel('Objective function')\n",
    "plt.title('Sparse beta-div NTD')\n",
    "plt.legend()\n",
    "plt.show()\n",
    "\n",
    "plt.figure(2)\n",
    "plt.semilogy(toc[it1:],cost_fct_vals[it1:], color='blue', label='MU HER off')\n",
    "plt.semilogy(toc_HER[it1:],cost_fct_vals_HER[it1:], color='black', label='MU HER on')\n",
    "plt.xlabel('CPU time')\n",
    "plt.ylabel('Objective function')\n",
    "plt.title('Sparse beta-div NTD')\n",
    "plt.legend()\n",
    "plt.show()"
   ]
  },
  {
   "cell_type": "code",
   "execution_count": null,
   "id": "02b45477-abbc-422d-ba16-6f348b0a45b9",
   "metadata": {},
   "outputs": [],
   "source": []
  },
  {
   "cell_type": "code",
   "execution_count": null,
   "id": "e3fe1ac1-ac27-4f5a-a7e9-f5023eb67238",
   "metadata": {},
   "outputs": [],
   "source": []
  }
 ],
 "metadata": {
  "kernelspec": {
   "display_name": "Python 3",
   "language": "python",
   "name": "python3"
  },
  "language_info": {
   "codemirror_mode": {
    "name": "ipython",
    "version": 3
   },
   "file_extension": ".py",
   "mimetype": "text/x-python",
   "name": "python",
   "nbconvert_exporter": "python",
   "pygments_lexer": "ipython3",
   "version": "3.8.8"
  }
 },
 "nbformat": 4,
 "nbformat_minor": 5
}
