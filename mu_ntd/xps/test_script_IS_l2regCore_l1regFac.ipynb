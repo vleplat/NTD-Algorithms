{
 "cells": [
  {
   "cell_type": "code",
   "execution_count": 1,
   "id": "117404e5-4204-46ed-951e-aff27a916ac4",
   "metadata": {},
   "outputs": [],
   "source": [
    "# Python classics\n",
    "import numpy as np\n",
    "import tensorly as tl\n",
    "import mu_ntd.algorithms.Sparse_ntd as SNTD\n",
    "import matplotlib.pyplot as plt\n",
    "import nn_fac.beta_divergence as beta_div"
   ]
  },
  {
   "cell_type": "code",
   "execution_count": 2,
   "id": "1dde0e9b-fb0d-4319-a241-c8adeabd29cc",
   "metadata": {},
   "outputs": [],
   "source": [
    "#----------------------------------------------------------------------------------------------------------------------------------------------------------------------------------------------------------------\n",
    "# Data generation\n",
    "#----------------------------------------------------------------------------------------------------------------------------------------------------------------------------------------------------------------\n",
    "U_lines = 100\n",
    "V_lines = 101\n",
    "W_lines = 20\n",
    "ranks = [4,6,5]\n",
    "# Noise level\n",
    "sigma = 1e-2\n",
    "tol = 0 #running all iterations\n",
    "# Generation of the input data tensor T\n",
    "factors_0 = []\n",
    "#factors_0.append(np.random.rand(U_lines, ranks[0]))\n",
    "#factors_0.append(np.random.rand(V_lines, ranks[1]))\n",
    "#factors_0.append(np.random.rand(W_lines, ranks[2]))\n",
    "# sparse generation\n",
    "W = np.random.randn(U_lines, ranks[0])\n",
    "H = np.random.randn(V_lines, ranks[1])\n",
    "Q = np.random.randn(W_lines, ranks[2])\n",
    "W[W<0]=0\n",
    "H[H<0]=0\n",
    "Q[Q<0]=0\n",
    "factors_0.append(W)\n",
    "factors_0.append(H)\n",
    "factors_0.append(Q)\n",
    "core_0 = np.random.randn(ranks[0], ranks[1], ranks[2])\n",
    "core_0[core_0<0]=0 #sparsifying the gt solution\n",
    "factors_GT = factors_0\n",
    "core_GT = core_0\n",
    "T = tl.tenalg.multi_mode_dot(core_0, factors_0) + sigma * np.random.rand(U_lines, V_lines, W_lines) #1e-2"
   ]
  },
  {
   "cell_type": "code",
   "execution_count": 3,
   "id": "10d43e75-0b14-4d0f-964e-9eaedd2ac398",
   "metadata": {},
   "outputs": [],
   "source": [
    "# Random initialization for the NTD\n",
    "factors_init = []\n",
    "factors_init.append(np.random.rand(U_lines, ranks[0]))\n",
    "factors_init.append(np.random.rand(V_lines, ranks[1]))\n",
    "factors_init.append(np.random.rand(W_lines, ranks[2]))\n",
    "core_init = np.random.rand(ranks[0], ranks[1], ranks[2])"
   ]
  },
  {
   "cell_type": "code",
   "execution_count": 4,
   "id": "e6d5a1d3-dec9-4f4b-9922-66836a7e9de4",
   "metadata": {},
   "outputs": [],
   "source": [
    "# Solver parameters\n",
    "n_iter_max = 200\n",
    "beta = 0\n",
    "iter_inner = 3\n",
    "l2weight = np.array([50, 0, 0, 0])  #(\\mu_g, \\mu_W, \\mu_H, \\mu_Q) #use big values for l2weights to ensure better conditioning on polynomial equation: np.array([0, 50, 50, 50])\n",
    "l1weight = np.array([0, 20, 20, 20])  #(\\mu_g, \\mu_W, \\mu_H, \\mu_Q)   #np.array([20, 0, 0, 0]) "
   ]
  },
  {
   "cell_type": "code",
   "execution_count": 5,
   "id": "9616d0a3-900e-400d-b9d8-d59e4f42a109",
   "metadata": {},
   "outputs": [
    {
     "name": "stderr",
     "output_type": "stream",
     "text": [
      "100%|██████████| 200/200 [00:32<00:00,  6.15it/s]\n"
     ]
    }
   ],
   "source": [
    "    #------------------------------\n",
    "    # Call of solvers\n",
    "    #----------------------------------------------------------------------------------------------------------------------------------------------------------------------------------------------------------------\n",
    "\n",
    "\n",
    "    # ### Beta = 1 - MU no extrapolation\n",
    "    core, factors, cost_fct_vals, toc, alpha = SNTD.sntd_mu(T, ranks, l2weights=l2weight, l1weights=l1weight, init = \"custom\", core_0 = core_init, factors_0 = factors_init, n_iter_max = n_iter_max, tol=tol, beta = beta,\n",
    "                                                fixed_modes = [], normalize = 4*[None], verbose = False, return_costs = True, extrapolate=False, iter_inner=iter_inner)"
   ]
  },
  {
   "cell_type": "code",
   "execution_count": 6,
   "id": "ffc97c93-87ab-486f-8229-b709dfc34185",
   "metadata": {},
   "outputs": [
    {
     "name": "stderr",
     "output_type": "stream",
     "text": [
      "100%|██████████| 200/200 [00:32<00:00,  6.17it/s]\n"
     ]
    }
   ],
   "source": [
    "    # ### Beta = 1 - MU extrapolation\n",
    "    core_HER, factors_HER, cost_fct_vals_HER, toc_HER, alpha_HER = SNTD.sntd_mu(T, ranks, l2weights=l2weight, l1weights=l1weight, init = \"custom\", core_0 = core_init, factors_0 = factors_init, n_iter_max = n_iter_max, tol=tol, beta = beta,\n",
    "                                                fixed_modes = [], normalize = 4*[None], verbose = False, return_costs = True, extrapolate=True, iter_inner=iter_inner)"
   ]
  },
  {
   "cell_type": "code",
   "execution_count": 7,
   "id": "f8076fb9-460c-4cd8-bce4-93c01ebfe89e",
   "metadata": {},
   "outputs": [
    {
     "name": "stdout",
     "output_type": "stream",
     "text": [
      "-----------------------------------------------------------------------\n",
      "Reporting results:\n",
      "-----------------------------------------------------------------------\n",
      "Final loss function value:\n",
      "MU, Beta = 0       : 31720.69512023248, converged in 200 iterations.\n",
      "MU - HER, Beta = 0 : 31443.164284809893, converged in 200 iterations.\n",
      "-----------------------------------------------------------------------\n",
      "Final relative construction error:\n",
      "MU, Beta = 0       : 15.753402088282966 %\n",
      "MU - HER, Beta = 0 : 15.894545271752833 %\n"
     ]
    }
   ],
   "source": [
    "    #----------------------------------------------------------------------------------------------------------------------------------------------------------------------------------------------------------------\n",
    "# Reporting\n",
    "#----------------------------------------------------------------------------------------------------------------------------------------------------------------------------------------------------------------\n",
    "print(\"-----------------------------------------------------------------------\")\n",
    "print(\"Reporting results:\")\n",
    "print(\"-----------------------------------------------------------------------\")\n",
    "print(\"Final loss function value:\")\n",
    "print(f\"MU, Beta = {beta}       : {cost_fct_vals[-1]}, converged in {len(cost_fct_vals) - 1} iterations.\")\n",
    "print(f\"MU - HER, Beta = {beta} : {cost_fct_vals_HER[-1]}, converged in {len(cost_fct_vals_HER) - 1} iterations.\")\n",
    "print(\"-----------------------------------------------------------------------\")\n",
    "print(\"Final relative construction error:\")\n",
    "print(f\"MU, Beta = {beta}       : {tl.norm(T-tl.tenalg.multi_mode_dot(core, factors))/tl.norm(T)*100} %\")\n",
    "print(f\"MU - HER, Beta = {beta} : {tl.norm(T-tl.tenalg.multi_mode_dot(core_HER, factors_HER))/tl.norm(T)*100} %\")"
   ]
  },
  {
   "cell_type": "code",
   "execution_count": 8,
   "id": "d578e5dc-de2a-4096-a1db-2f37ad8bfb54",
   "metadata": {},
   "outputs": [
    {
     "data": {
      "text/plain": [
       "10.982498195892191"
      ]
     },
     "execution_count": 8,
     "metadata": {},
     "output_type": "execute_result"
    }
   ],
   "source": [
    "tl.norm(core,order=2, axis=None)\n"
   ]
  },
  {
   "cell_type": "code",
   "execution_count": 9,
   "id": "727716f4-aaa2-47a6-b0f8-87f1b0035c98",
   "metadata": {},
   "outputs": [
    {
     "data": {
      "image/png": "[encoded data removed]",
      "text/plain": [
       "<Figure size 432x288 with 1 Axes>"
      ]
     },
     "metadata": {
      "needs_background": "light"
     },
     "output_type": "display_data"
    },
    {
     "data": {
      "image/png": "[encoded data removed]",
      "text/plain": [
       "<Figure size 432x288 with 1 Axes>"
      ]
     },
     "metadata": {
      "needs_background": "light"
     },
     "output_type": "display_data"
    }
   ],
   "source": [
    "# first iteration shown?\n",
    "it1 = 1\n",
    "\n",
    "plt.figure(1)\n",
    "plt.semilogy(cost_fct_vals[it1:], color='blue', label='MU HER off')\n",
    "plt.semilogy(cost_fct_vals_HER[it1:], color='black', label='MU HER on')\n",
    "plt.xlabel('Iteration number')\n",
    "plt.ylabel('Objective function')\n",
    "plt.title('Sparse beta-div NTD')\n",
    "plt.legend()\n",
    "plt.show()\n",
    "\n",
    "plt.figure(2)\n",
    "plt.semilogy(toc[it1:],cost_fct_vals[it1:], color='blue', label='MU HER off')\n",
    "plt.semilogy(toc_HER[it1:],cost_fct_vals_HER[it1:], color='black', label='MU HER on')\n",
    "plt.xlabel('CPU time')\n",
    "plt.ylabel('Objective function')\n",
    "plt.title('Sparse beta-div NTD')\n",
    "plt.legend()\n",
    "plt.show()"
   ]
  },
  {
   "cell_type": "code",
   "execution_count": 10,
   "id": "02b45477-abbc-422d-ba16-6f348b0a45b9",
   "metadata": {},
   "outputs": [
    {
     "data": {
      "text/plain": [
       "25683.87453436536"
      ]
     },
     "execution_count": 10,
     "metadata": {},
     "output_type": "execute_result"
    }
   ],
   "source": [
    "# beta-divergence\n",
    "beta_div.beta_divergence(T, tl.tenalg.multi_mode_dot(core, factors), beta)"
   ]
  },
  {
   "cell_type": "code",
   "execution_count": 11,
   "id": "0e25ccf2-c898-4245-8935-dd9b8ea007d7",
   "metadata": {},
   "outputs": [
    {
     "data": {
      "text/plain": [
       "0.0"
      ]
     },
     "execution_count": 11,
     "metadata": {},
     "output_type": "execute_result"
    }
   ],
   "source": [
    "l1weight[0]*tl.norm(core,1)"
   ]
  },
  {
   "cell_type": "code",
   "execution_count": 12,
   "id": "b0df6815-b477-4ee2-8fce-9376958f9779",
   "metadata": {},
   "outputs": [
    {
     "data": {
      "text/plain": [
       "1748.1578287201228"
      ]
     },
     "execution_count": 12,
     "metadata": {},
     "output_type": "execute_result"
    }
   ],
   "source": [
    "l1weight[1]*tl.norm(factors[0],1)"
   ]
  },
  {
   "cell_type": "code",
   "execution_count": 13,
   "id": "e81e397f-a7b7-4e3b-b1d3-7591ad380203",
   "metadata": {},
   "outputs": [
    {
     "data": {
      "text/plain": [
       "1860.1064905922694"
      ]
     },
     "execution_count": 13,
     "metadata": {},
     "output_type": "execute_result"
    }
   ],
   "source": [
    "l1weight[2]*tl.norm(factors[1],1)"
   ]
  },
  {
   "cell_type": "code",
   "execution_count": 14,
   "id": "9593f90f-1ecf-4e5b-adf8-93ad9c8d1de3",
   "metadata": {},
   "outputs": [
    {
     "data": {
      "text/plain": [
       "1879.4313567601218"
      ]
     },
     "execution_count": 14,
     "metadata": {},
     "output_type": "execute_result"
    }
   ],
   "source": [
    "l1weight[3]*tl.norm(factors[2],1)"
   ]
  },
  {
   "cell_type": "code",
   "execution_count": 15,
   "id": "9a29bb24-c2b5-4cc9-a3a1-9fbe578212d9",
   "metadata": {},
   "outputs": [
    {
     "data": {
      "text/plain": [
       "3015.3816655693804"
      ]
     },
     "execution_count": 15,
     "metadata": {},
     "output_type": "execute_result"
    }
   ],
   "source": [
    "1/2*l2weight[0]*tl.norm(core)**2"
   ]
  },
  {
   "cell_type": "code",
   "execution_count": 16,
   "id": "8230256c-6737-4063-8ad2-492d8ab30e28",
   "metadata": {},
   "outputs": [
    {
     "data": {
      "text/plain": [
       "0.0"
      ]
     },
     "execution_count": 16,
     "metadata": {},
     "output_type": "execute_result"
    }
   ],
   "source": [
    "1/2*l2weight[1]*tl.norm(factors[0])**2"
   ]
  },
  {
   "cell_type": "code",
   "execution_count": 17,
   "id": "35d46d20-2b47-4938-8942-447f7abb5818",
   "metadata": {},
   "outputs": [
    {
     "data": {
      "text/plain": [
       "0.0"
      ]
     },
     "execution_count": 17,
     "metadata": {},
     "output_type": "execute_result"
    }
   ],
   "source": [
    "1/2*l2weight[2]*tl.norm(factors[1])**2"
   ]
  },
  {
   "cell_type": "code",
   "execution_count": 18,
   "id": "5eb425ab-c21d-4d4c-8542-ef32ffe8019e",
   "metadata": {},
   "outputs": [
    {
     "data": {
      "text/plain": [
       "0.0"
      ]
     },
     "execution_count": 18,
     "metadata": {},
     "output_type": "execute_result"
    }
   ],
   "source": [
    "1/2*l2weight[3]*tl.norm(factors[2])**2"
   ]
  },
  {
   "cell_type": "code",
   "execution_count": 19,
   "id": "ef8c61b6-8767-429a-80a4-a4877a2d5b3a",
   "metadata": {},
   "outputs": [
    {
     "data": {
      "text/plain": [
       "(100, 101, 20)"
      ]
     },
     "execution_count": 19,
     "metadata": {},
     "output_type": "execute_result"
    }
   ],
   "source": [
    "T.shape"
   ]
  },
  {
   "cell_type": "code",
   "execution_count": 20,
   "id": "6f3d7d8e-5042-46dd-bbbd-9f81ee54c932",
   "metadata": {},
   "outputs": [
    {
     "data": {
      "text/plain": [
       "3"
      ]
     },
     "execution_count": 20,
     "metadata": {},
     "output_type": "execute_result"
    }
   ],
   "source": [
    "len(T.shape)"
   ]
  },
  {
   "cell_type": "code",
   "execution_count": null,
   "id": "1ff44dbb-e8f2-4fab-acb2-701e29230c63",
   "metadata": {},
   "outputs": [],
   "source": []
  }
 ],
 "metadata": {
  "kernelspec": {
   "display_name": "Python 3",
   "language": "python",
   "name": "python3"
  },
  "language_info": {
   "codemirror_mode": {
    "name": "ipython",
    "version": 3
   },
   "file_extension": ".py",
   "mimetype": "text/x-python",
   "name": "python",
   "nbconvert_exporter": "python",
   "pygments_lexer": "ipython3",
   "version": "3.8.8"
  }
 },
 "nbformat": 4,
 "nbformat_minor": 5
}
