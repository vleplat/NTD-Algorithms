{
 "cells": [
  {
   "cell_type": "code",
   "execution_count": 1,
   "id": "117404e5-4204-46ed-951e-aff27a916ac4",
   "metadata": {},
   "outputs": [],
   "source": [
    "# Python classics\n",
    "import numpy as np\n",
    "import nn_fac\n",
    "import tensorly as tl\n",
    "import matplotlib.pyplot as plt"
   ]
  },
  {
   "cell_type": "code",
   "execution_count": 2,
   "id": "1dde0e9b-fb0d-4319-a241-c8adeabd29cc",
   "metadata": {},
   "outputs": [],
   "source": [
    "#----------------------------------------------------------------------------------------------------------------------------------------------------------------------------------------------------------------\n",
    "# Data generation\n",
    "#----------------------------------------------------------------------------------------------------------------------------------------------------------------------------------------------------------------\n",
    "U_lines = 100\n",
    "V_lines = 101\n",
    "W_lines = 20\n",
    "ranks = [4,6,5]\n",
    "# Noise level\n",
    "sigma = 0#1e-2\n",
    "tol = 0 #running all iterations\n",
    "# Generation of the input data tensor T\n",
    "factors_0 = []\n",
    "#factors_0.append(np.random.rand(U_lines, ranks[0]))\n",
    "#factors_0.append(np.random.rand(V_lines, ranks[1]))\n",
    "#factors_0.append(np.random.rand(W_lines, ranks[2]))\n",
    "# sparse generation\n",
    "W = np.random.randn(U_lines, ranks[0])\n",
    "H = np.random.randn(V_lines, ranks[1])\n",
    "Q = np.random.randn(W_lines, ranks[2])\n",
    "W[W<0]=0\n",
    "H[H<0]=0\n",
    "Q[Q<0]=0\n",
    "factors_0.append(W)\n",
    "factors_0.append(H)\n",
    "factors_0.append(Q)\n",
    "core_0 = np.random.randn(ranks[0], ranks[1], ranks[2])\n",
    "core_0[core_0<0]=0 #sparsifying the gt solution\n",
    "factors_GT = factors_0\n",
    "core_GT = core_0\n",
    "T = tl.tenalg.multi_mode_dot(core_0, factors_0) + sigma * np.random.rand(U_lines, V_lines, W_lines) #1e-2"
   ]
  },
  {
   "cell_type": "code",
   "execution_count": 3,
   "id": "10d43e75-0b14-4d0f-964e-9eaedd2ac398",
   "metadata": {},
   "outputs": [],
   "source": [
    "# Random initialization for the NTD\n",
    "factors_init = []\n",
    "factors_init.append(np.random.rand(U_lines, ranks[0]))\n",
    "factors_init.append(np.random.rand(V_lines, ranks[1]))\n",
    "factors_init.append(np.random.rand(W_lines, ranks[2]))\n",
    "core_init = np.random.rand(ranks[0], ranks[1], ranks[2])"
   ]
  },
  {
   "cell_type": "code",
   "execution_count": 4,
   "id": "e6d5a1d3-dec9-4f4b-9922-66836a7e9de4",
   "metadata": {},
   "outputs": [],
   "source": [
    "# Solver parameters\n",
    "n_iter_max = 1000\n",
    "beta = 2\n",
    "iter_inner = 10\n",
    "l2weight = [0, 0, 0, 0]  #(\\mu_W, \\mu_H, \\mu_Q, \\mu_g)\n",
    "l1weight = [1, 1, 1, 1]  #(\\mu_g, \\mu_W, \\mu_H, \\mu_Q, \\mu_g)"
   ]
  },
  {
   "cell_type": "code",
   "execution_count": 13,
   "id": "9616d0a3-900e-400d-b9d8-d59e4f42a109",
   "metadata": {},
   "outputs": [
    {
     "name": "stdout",
     "output_type": "stream",
     "text": [
      "0.5 0.005\n"
     ]
    }
   ],
   "source": [
    " #------------------------------\n",
    " # Call of solvers\n",
    " #----------------------------------------------------------------------------------------------------------------------------------------------------------------------------------------------------------------\n",
    "# ### Beta = 2 - HALS with l2 and l1\n",
    "core, factors, cost_fct_vals, toc = nn_fac.ntd.ntd(T, ranks, l2weights=l2weight, l1weights=l1weight, init = \"custom\", core_0 = core_init, factors_0 = factors_init, n_iter_max = n_iter_max, tol=tol, fixed_modes = [], normalize = 4*[None], verbose = False, return_costs = True, inner_iter=iter_inner,\n",
    "accelerate=[0.5,0.005])"
   ]
  },
  {
   "cell_type": "code",
   "execution_count": 6,
   "id": "f8076fb9-460c-4cd8-bce4-93c01ebfe89e",
   "metadata": {},
   "outputs": [
    {
     "name": "stdout",
     "output_type": "stream",
     "text": [
      "-----------------------------------------------------------------------\n",
      "Reporting results:\n",
      "-----------------------------------------------------------------------\n",
      "Final loss function value:\n",
      "HALS       : 533.9889399358265, converged in 1000 iterations.\n",
      "-----------------------------------------------------------------------\n",
      "Final relative construction error:\n",
      "HALS       : 0.008079507028453411 %\n"
     ]
    }
   ],
   "source": [
    "    #----------------------------------------------------------------------------------------------------------------------------------------------------------------------------------------------------------------\n",
    "# Reporting\n",
    "#----------------------------------------------------------------------------------------------------------------------------------------------------------------------------------------------------------------\n",
    "print(\"-----------------------------------------------------------------------\")\n",
    "print(\"Reporting results:\")\n",
    "print(\"-----------------------------------------------------------------------\")\n",
    "print(\"Final loss function value:\")\n",
    "print(f\"HALS       : {cost_fct_vals[-1]}, converged in {len(cost_fct_vals) - 1} iterations.\")\n",
    "\n",
    "print(\"-----------------------------------------------------------------------\")\n",
    "print(\"Final relative construction error:\")\n",
    "print(f\"HALS       : {tl.norm(T-tl.tenalg.multi_mode_dot(core, factors))/tl.norm(T)*100} %\")"
   ]
  },
  {
   "cell_type": "code",
   "execution_count": 7,
   "id": "d578e5dc-de2a-4096-a1db-2f37ad8bfb54",
   "metadata": {},
   "outputs": [
    {
     "data": {
      "text/plain": [
       "7.457512624933713"
      ]
     },
     "execution_count": 7,
     "metadata": {},
     "output_type": "execute_result"
    }
   ],
   "source": [
    "tl.norm(core,order=2, axis=None)\n"
   ]
  },
  {
   "cell_type": "code",
   "execution_count": 14,
   "id": "727716f4-aaa2-47a6-b0f8-87f1b0035c98",
   "metadata": {},
   "outputs": [
    {
     "data": {
      "image/png": "[encoded data removed]",
      "text/plain": [
       "<Figure size 432x288 with 1 Axes>"
      ]
     },
     "metadata": {
      "needs_background": "light"
     },
     "output_type": "display_data"
    },
    {
     "data": {
      "image/png": "[encoded data removed]",
      "text/plain": [
       "<Figure size 432x288 with 1 Axes>"
      ]
     },
     "metadata": {
      "needs_background": "light"
     },
     "output_type": "display_data"
    }
   ],
   "source": [
    "# first iteration shown?\n",
    "it1 = 0\n",
    "\n",
    "plt.figure(1)\n",
    "plt.semilogy(cost_fct_vals[it1:], color='blue', label='MU HER off')\n",
    "plt.xlabel('Iteration number')\n",
    "plt.ylabel('Objective function')\n",
    "plt.title('Frobenius norm HALS NTD per it')\n",
    "plt.legend()\n",
    "plt.show()\n",
    "\n",
    "plt.figure(2)\n",
    "plt.semilogy(toc[it1:],cost_fct_vals[it1:], color='blue', label='MU HER off')\n",
    "plt.xlabel('CPU time')\n",
    "plt.ylabel('Objective function')\n",
    "plt.title('Frobenius norm HALS NTD per time')\n",
    "plt.legend()\n",
    "plt.show()"
   ]
  }
 ],
 "metadata": {
  "interpreter": {
   "hash": "0fffcbe2c47be1adbb8fb678864d8397adaf393ccf5911a26c87f0843fe775c3"
  },
  "kernelspec": {
   "display_name": "Python 3.10.4 ('venv310': venv)",
   "language": "python",
   "name": "python3"
  },
  "language_info": {
   "codemirror_mode": {
    "name": "ipython",
    "version": 3
   },
   "file_extension": ".py",
   "mimetype": "text/x-python",
   "name": "python",
   "nbconvert_exporter": "python",
   "pygments_lexer": "ipython3",
   "version": "3.10.4"
  }
 },
 "nbformat": 4,
 "nbformat_minor": 5
}
